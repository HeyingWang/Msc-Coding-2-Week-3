{
 "cells": [
  {
   "cell_type": "code",
   "execution_count": null,
   "metadata": {},
   "outputs": [],
   "source": [
    "\n",
    "import tkinter as tk\n",
    "import tkinter.messagebox\n",
    "import pickle\n",
    "\n",
    "window = tk.Tk()                               # create the window\n",
    "window.title('The longest word')\n",
    "window.geometry('800x300')                     # Modify the size of the window frame\n",
    "\n",
    "\n",
    "# Answers, Clue Tags\n",
    "\n",
    "tk.Label(window, text='Answer ',font=('SourceSansPro-Regular', 14)).place(x=50, y=190)\n",
    "tk.Label(window, text='Clue ',font=('SourceSansPro-Regular', 14)).place(x=400, y=190)\n",
    "e2 = tk.Entry(window, show=None, font=('SourceSansPro-Regular', 14))     # Entry control for entering Answer\n",
    "e2.place(x=110, y=190)\n",
    "e3 = tk.Entry(window, show=None, font=('SourceSansPro-Regular', 14))     # Entry control for entering Get the clues\n",
    "e3.place(x=450, y=190)\n",
    "\n",
    "\n",
    "\n",
    "# Place the corresponding tabs and Entry controls on the window and position them well\n",
    "tk.Label(window, text='Group A= hbacplpyd', font=('SourceSansPro-Regular', 14)).place(x=50, y=40)\n",
    "tk.Label(window, text='Group B= remind you happy forever', font=('SourceSansPro-Regular',14)).place(x=50, y=80)\n",
    "tk.Label(window, text='Find the longest word in the Group B that can be formed by deleting some characters of the Group A.', font=('SourceSansPro-Regular', 14)).place(x=50, y=120)\n",
    "tk.Label(window, text='Attention: if you want to get the clues, try to input \"clue\"+\"number\"', font=('SourceSansPro-Light', 12)).place(x=50, y=160)\n",
    "\n",
    "\n",
    " # Answer Judgment\n",
    "\n",
    "def puzzle():\n",
    "    x = e2.get()\n",
    "  \n",
    "    \n",
    "    if x == 'happy':      \n",
    "        tkinter.messagebox.showinfo(title= ' Congratulations ' , message = 'You are right!' )\n",
    "    else:\n",
    "        tkinter.messagebox.showwarning(title='Sorry', message='Is that the answer? Think again.')\n",
    "        \n",
    " # Clue Judgment        \n",
    "        \n",
    "def clue():\n",
    "    x = e3.get()\n",
    "    if x == 'clue1':      \n",
    "        tkinter.messagebox.showinfo(title= ' Clue1 ' , message = 'Example:Group A= abpcpea,Group B= a b c,Answer=a' )\n",
    "    elif x == 'clue2':      \n",
    "        tkinter.messagebox.showinfo(title= ' Clue2 ' , message = 'If there are more than one possible results, return the longest word with the smallest lexicographical order. if there is no possible result, return the empty string.' )\n",
    "    else:\n",
    "        tkinter.messagebox.showwarning(title='Sorry', message='You should input correct commands')\n",
    "        \n",
    "       \n",
    " # Create two keys on the window\n",
    "    \n",
    "b_puzzle = tk.Button(window, text='Confirm', font=('SourceSansPro-Regular', 14), command=puzzle).place(x=110, y=230)\n",
    "b_clue = tk.Button(window, text='Get the clues', font=('SourceSansPro-Regular', 14), command=clue).place(x=450, y=230)\n",
    "window.mainloop()     # Main window cycling display\n"
   ]
  },
  {
   "cell_type": "code",
   "execution_count": null,
   "metadata": {},
   "outputs": [],
   "source": []
  }
 ],
 "metadata": {
  "kernelspec": {
   "display_name": "Python 3",
   "language": "python",
   "name": "python3"
  },
  "language_info": {
   "codemirror_mode": {
    "name": "ipython",
    "version": 3
   },
   "file_extension": ".py",
   "mimetype": "text/x-python",
   "name": "python",
   "nbconvert_exporter": "python",
   "pygments_lexer": "ipython3",
   "version": "3.8.5"
  }
 },
 "nbformat": 4,
 "nbformat_minor": 4
}
